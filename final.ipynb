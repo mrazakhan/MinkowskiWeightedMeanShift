{
 "cells": [
  {
   "cell_type": "code",
   "execution_count": 99,
   "metadata": {
    "collapsed": false
   },
   "outputs": [],
   "source": [
    "import numpy as np\n",
    "import pandas as pd\n",
    "import os\n",
    "import sklearn\n",
    "from sklearn.datasets import *\n",
    "import matplotlib.pyplot as plt\n",
    "import matplotlib.pylab as pylab\n",
    "import math\n",
    "import time\n",
    "\n",
    "from sklearn import cluster, datasets\n",
    "\n",
    "from sklearn.neighbors import kneighbors_graph\n",
    "from sklearn.preprocessing import StandardScaler\n",
    "\n",
    "from sklearn import metrics\n",
    "from sklearn.metrics import pairwise_distances\n",
    "\n",
    "\n",
    "%matplotlib inline\n",
    "\n",
    "\n",
    "pylab.rcParams['figure.figsize'] = 16, 12"
   ]
  },
  {
   "cell_type": "code",
   "execution_count": 2,
   "metadata": {
    "collapsed": false
   },
   "outputs": [],
   "source": [
    "os.chdir('F:\\Spring2016\\NonParametricEstimation\\project\\implementation')"
   ]
  },
  {
   "cell_type": "markdown",
   "metadata": {
    "collapsed": true
   },
   "source": [
    "# Utility Code"
   ]
  },
  {
   "cell_type": "code",
   "execution_count": 85,
   "metadata": {
    "collapsed": true
   },
   "outputs": [],
   "source": [
    "def read_data(filename):\n",
    "    data=np.genfromtext(filename)\n",
    "    return data\n",
    "def euc_distance(x,xi):\n",
    "    if len(x)!=len(xi):\n",
    "        print 'len_x {}, len_xi'.format(len(x),len(xi))\n",
    "        raise Exception('Dimensions do not match')\n",
    "    return np.sqrt(np.sum((x-xi)**2))\n",
    "\n",
    "def gaussian_kernel(distance, bandwidth):\n",
    "    val = (1/(bandwidth*math.sqrt(2*math.pi))) * np.exp(-0.5*((distance / bandwidth))**2)\n",
    "    return val\n",
    "\n",
    "def minkowski_distance(x,xi,ind,p=2):\n",
    "    if len(x)!=len(xi):\n",
    "            raise Exception('Dimensions do not match')\n",
    "    return np.power(np.sum((x[ind]-xi[ind])**p),1.0/p)\n",
    "    \n",
    "\n",
    "\n",
    "def get_neighbors(pts, centroid, threshold_distance=5, k=-1):\n",
    "    neighbors=[]\n",
    "    count=0\n",
    "    for pt in pts:\n",
    "        dist=euc_distance(pt, centroid)\n",
    "        if dist<=threshold_distance:\n",
    "            neighbors.append(pt)\n",
    "            count+=1\n",
    "            if k!=-1 and count>=k: # Adding support for the adaptive bandwidth selection\n",
    "                break\n",
    "    return neighbors\n",
    "\n",
    "def get_dispersion_weights(neighbors, len_features):\n",
    "    dispersion_weights=np.zeros(len_features)\n",
    "    for k in range(len_features):\n",
    "        for i in neighbors:\n",
    "            for j in neighbors:\n",
    "                dispersion_weights[k]+=minkowski_distance(i,j,k)\n",
    "    denom=np.sum(dispersion_weights)\n",
    "    dispersion_weights=dispersion_weights/denom\n",
    "    return dispersion_weights"
   ]
  },
  {
   "cell_type": "markdown",
   "metadata": {},
   "source": [
    "# Mean Shift Base Class"
   ]
  },
  {
   "cell_type": "code",
   "execution_count": 123,
   "metadata": {
    "collapsed": false
   },
   "outputs": [],
   "source": [
    "\n",
    "class custom_mean_shift():\n",
    "    def __init__(self, no_iterations=50, kernel_bandwidth=4, threshold_distance=5, features_weighting=False):\n",
    "        self.threshold_distance = 5\n",
    "        self.kernel_bandwidth=kernel_bandwidth\n",
    "        self.no_iterations=no_iterations\n",
    "        self.threshold_distance=threshold_distance\n",
    "        self.cluster_centers_=[]\n",
    "        self.features_weighting=features_weighting\n",
    "        \n",
    "    def fit(self,sample_data):\n",
    "        no_iterations=self.no_iterations\n",
    "        kernel_bandwidth=self.kernel_bandwidth\n",
    "        threshold_distance=self.threshold_distance\n",
    "        datacopy=np.copy(sample_data)\n",
    "        past_iterations_data=[]\n",
    "#         if self.features_weighting:\n",
    "#             datacopy=datacopy*get_dispersion_weights(sample_data.shape[1])\n",
    "\n",
    "        for it in range(no_iterations): # The converegence criteria should be distance based\n",
    "            print 'iteration', it\n",
    "            for i,currentX in enumerate(datacopy):\n",
    "                # Step 1 get neighborhood points for each point X\n",
    "                neighbors = get_neighbors(datacopy, currentX, threshold_distance)#neighbourhood_points\n",
    "                #neighbors = neighbourhood_points(datacopy, currentX, threshold_distance)\n",
    "                # To make get_neighbors adaptive pass the argument k to it\n",
    "    #             dispersion_weights=get_dispersion_weights(neighbors)\n",
    "                numerator=0.001\n",
    "                denominator=0.001\n",
    "                if self.features_weighting:\n",
    "                    weight2=get_dispersion_weights(neighbors,sample_data.shape[1])\n",
    "                for  neighborX in neighbors:\n",
    "                    dist=euc_distance(currentX,neighborX)\n",
    "                    \n",
    "                    weight=gaussian_kernel(dist, kernel_bandwidth)\n",
    "                    if self.features_weighting:\n",
    "                        weight*=weight2\n",
    "                    numerator+=((weight+0.001)*neighborX)\n",
    "                    denominator+=(weight+0.001)\n",
    "\n",
    "                mean_x=numerator/denominator\n",
    "                datacopy[i]=mean_x\n",
    "            past_iterations_data.append(np.copy(datacopy))\n",
    "\n",
    "        #clusters=[[round(each[0],2),round(each[1],2)] for each in datacopy]\n",
    "        clusters=datacopy.round(2).tolist()\n",
    "        clusters=list(set([tuple(row) for row in clusters]))\n",
    "        self.cluster_centers_=np.copy(clusters)\n",
    "        self.past_iterations_data=past_iterations_data\n",
    "        \n",
    "    def predict(self,sample_data):\n",
    "#         print 'Inside predict , Length of cluster_centers_ {}'.format(len(self.cluster_centers_))\n",
    "        cluster_assignment=np.zeros(len(sample_data))\n",
    "        for ind,each in enumerate(sample_data):\n",
    "            cluster_id=0\n",
    "            min_dist=1000\n",
    "            for i,clust in enumerate(self.cluster_centers_):\n",
    "                current_distance=euc_distance(clust,each)\n",
    "#                 print 'point {}, cluster_id {}, distance {}'.format(ind,i,current_distance)\n",
    "                if current_distance<=min_dist:\n",
    "                    min_dist=current_distance\n",
    "                    cluster_id=i\n",
    "            cluster_assignment[ind]=cluster_id\n",
    "        return  cluster_assignment\n",
    "    "
   ]
  },
  {
   "cell_type": "markdown",
   "metadata": {},
   "source": [
    "# Experiment 1 : Working of Mean Shift"
   ]
  },
  {
   "cell_type": "code",
   "execution_count": 124,
   "metadata": {
    "collapsed": false
   },
   "outputs": [
    {
     "data": {
      "text/plain": [
       "(100L, 2L)"
      ]
     },
     "execution_count": 124,
     "metadata": {},
     "output_type": "execute_result"
    }
   ],
   "source": [
    "# Creating Synthetic Data\n",
    "sample_data,_  = make_blobs(100, 2, centers=4, cluster_std=1.3)\n",
    "sample_data.shape\n"
   ]
  },
  {
   "cell_type": "code",
   "execution_count": 117,
   "metadata": {
    "collapsed": false
   },
   "outputs": [],
   "source": []
  },
  {
   "cell_type": "code",
   "execution_count": 128,
   "metadata": {
    "collapsed": false,
    "scrolled": false
   },
   "outputs": [
    {
     "name": "stdout",
     "output_type": "stream",
     "text": [
      "iteration 0\n",
      "iteration 1\n",
      "iteration 2\n",
      "iteration 3\n",
      "iteration 4\n"
     ]
    },
    {
     "data": {
      "image/png": "[encoded data removed]",
      "text/plain": [
       "<matplotlib.figure.Figure at 0x1d7c6208>"
      ]
     },
     "metadata": {},
     "output_type": "display_data"
    }
   ],
   "source": [
    "no_iterations=5\n",
    "cms=custom_mean_shift(no_iterations=no_iterations)\n",
    "cms.fit(sample_data)\n",
    "# print cms.cluster_centers_\n",
    "y=cms.predict(sample_data)\n",
    "past_iterations_data=cms.past_iterations_data\n",
    "figure = plt.figure(1)\n",
    "figure.set_size_inches((6, 9))\n",
    "plt.subplot(no_iterations + 2, 1, 1)\n",
    "plt.title('Initial state')\n",
    "plt.plot(sample_data[:,0], sample_data[:,1], 'bo')\n",
    "plt.plot(sample_data[:,0], sample_data[:,1], 'ro')\n",
    "\n",
    "for i in range(no_iterations):\n",
    "    figure_index = i + 2\n",
    "    plt.subplot(no_iterations + 2, 1, figure_index)\n",
    "    plt.title('Iteration: %d' % (figure_index - 1))\n",
    "    plt.plot(sample_data[:,0], sample_data[:,1], 'bo')\n",
    "    plt.plot(past_iterations_data[i][:,0], past_iterations_data[i][:,1], 'ro')\n",
    "\n"
   ]
  },
  {
   "cell_type": "markdown",
   "metadata": {},
   "source": [
    "# Experiment 2: Working on Synthetic Data"
   ]
  },
  {
   "cell_type": "code",
   "execution_count": 127,
   "metadata": {
    "collapsed": true
   },
   "outputs": [],
   "source": [
    "# Creating datasets\n",
    "rand_seed=1234\n",
    "np.random.seed(rand_seed)\n",
    "def generate_datasets(no_samples=150):\n",
    "    noisy_circles=sklearn.datasets.make_circles(n_samples=no_samples,factor=0.5,noise=0.5)\n",
    "    noisy_moons=sklearn.datasets.make_moons(n_samples=no_samples,noise=0.5)\n",
    "    blobs=sklearn.datasets.make_blobs(no_samples,random_state=rand_seed)\n",
    "    no_structure=np.random.rand(no_samples,2),None\n",
    "    \n",
    "    return noisy_circles, noisy_moons, blobs, no_structure"
   ]
  },
  {
   "cell_type": "code",
   "execution_count": null,
   "metadata": {
    "collapsed": false
   },
   "outputs": [],
   "source": [
    "noisy_circles,noisy_moons, blobs, no_structure=generate_datasets(100)\n",
    "colors = np.array([x for x in 'bgrcmykbgrcmykbgrcmykbgrcmyk'])\n",
    "colors = np.hstack([colors] * 20)\n",
    "clustering_names = [\n",
    "     'CustomMeanShift','CustomMeanShift2','CustomMeanShift3'\n",
    "    ]\n"
   ]
  },
  {
   "cell_type": "code",
   "execution_count": null,
   "metadata": {
    "collapsed": false,
    "scrolled": false
   },
   "outputs": [],
   "source": [
    "plt.figure(figsize=(len(clustering_names) * 2 + 3, 15.5))\n",
    "plt.subplots_adjust(left=.02, right=.98, bottom=.001, top=.96, wspace=.05,\n",
    "                    hspace=.01)\n",
    "\n",
    "plot_num = 1\n",
    "\n",
    "datasets = [noisy_circles, noisy_moons, blobs, no_structure]\n",
    "for i_dataset, dataset in enumerate(datasets):\n",
    "    X, y = dataset\n",
    "    # normalize dataset for easier parameter selection\n",
    "    X = StandardScaler().fit_transform(X)\n",
    "\n",
    "    # estimate bandwidth for mean shift\n",
    "    bandwidth = cluster.estimate_bandwidth(X, quantile=0.3)\n",
    "    print bandwidth\n",
    "    \n",
    "\n",
    "    # create clustering estimators\n",
    "    ms = cluster.MeanShift(bandwidth=bandwidth, bin_seeding=True)\n",
    "    cms=custom_mean_shift(kernel_bandwidth=bandwidth)\n",
    "    cms2=custom_mean_shift(kernel_bandwidth=bandwidth, threshold_distance=2)\n",
    "    cms3=custom_mean_shift(kernel_bandwidth=bandwidth, features_weighting=True)\n",
    "    \n",
    "    clustering_algorithms = [\n",
    "         cms,cms2,cms3\n",
    "    ]\n",
    "\n",
    "    for name, algorithm in zip(clustering_names, clustering_algorithms):\n",
    "        # predict cluster memberships\n",
    "        t0 = time.time()\n",
    "        algorithm.fit(X)\n",
    "        t1 = time.time()\n",
    "        if hasattr(algorithm, 'labels_'):\n",
    "            y_pred = algorithm.labels_.astype(np.int)\n",
    "            #print y_pred\n",
    "        else:\n",
    "            y_pred = algorithm.predict(X).astype(np.int)\n",
    "            #print y_pred\n",
    "\n",
    "        # plot\n",
    "        plt.subplot(4, len(clustering_algorithms), plot_num)\n",
    "        if i_dataset == 0:\n",
    "            plt.title(name, size=18)\n",
    "        plt.scatter(X[:, 0], X[:, 1], color=colors[y_pred].tolist(), s=10)\n",
    "\n",
    "        if hasattr(algorithm, 'cluster_centers_'):\n",
    "            centers = algorithm.cluster_centers_\n",
    "            print 'name {}, centers {}'.format(name, centers)\n",
    "#             sd=metrics.silhouette_score(X, y_pred, metric='euclidean')\n",
    "#             print 'name {}, centers {}, sd{}'.format(name, centers, sd)\n",
    "            center_colors = colors[:len(centers)]\n",
    "            plt.scatter(centers[:, 0], centers[:, 1], s=100, c='black')\n",
    "            \n",
    "        plt.xlim(-2, 2)\n",
    "        plt.ylim(-2, 2)\n",
    "        plt.xticks(())\n",
    "        plt.yticks(())\n",
    "        plt.text(.99, .01, ('%.2fs' % (t1 - t0)).lstrip('0'),\n",
    "                 transform=plt.gca().transAxes, size=12,\n",
    "                 horizontalalignment='right')\n",
    "        plot_num += 1\n",
    "\n",
    "plt.show()"
   ]
  },
  {
   "cell_type": "markdown",
   "metadata": {},
   "source": [
    "# Experimenting with Higher Dimensions"
   ]
  },
  {
   "cell_type": "code",
   "execution_count": 83,
   "metadata": {
    "collapsed": true
   },
   "outputs": [],
   "source": [
    "blobs_list=[]\n",
    "j=10\n",
    "while(j<=100):\n",
    "    blobs_list.append(sklearn.datasets.make_blobs(n_features=j,random_state=rand_seed))\n",
    "    j+=10"
   ]
  },
  {
   "cell_type": "code",
   "execution_count": null,
   "metadata": {
    "collapsed": false,
    "scrolled": false
   },
   "outputs": [],
   "source": [
    "\n",
    "datasets = blobs_list\n",
    "for i_dataset, dataset in enumerate(datasets):\n",
    "    X, y = dataset\n",
    "    # normalize dataset for easier parameter selection\n",
    "    X = StandardScaler().fit_transform(X)\n",
    "\n",
    "    # estimate bandwidth for mean shift\n",
    "    bandwidth = cluster.estimate_bandwidth(X, quantile=0.35)\n",
    "    print bandwidth\n",
    "    \n",
    "\n",
    "    # create clustering estimators\n",
    "    ms = cluster.MeanShift(bandwidth=bandwidth, bin_seeding=True)\n",
    "    cms=custom_mean_shift(kernel_bandwidth=bandwidth)\n",
    "    cms2=custom_mean_shift(kernel_bandwidth=bandwidth, threshold_distance=2)\n",
    "    cms3=custom_mean_shift(kernel_bandwidth=bandwidth, features_weighting=True)\n",
    "    \n",
    "    clustering_algorithms = [\n",
    "         ms,cms,cms2,cms3\n",
    "    ]\n",
    "\n",
    "    for name, algorithm in zip(clustering_names, clustering_algorithms):\n",
    "        # predict cluster memberships\n",
    "        t0 = time.time()\n",
    "        algorithm.fit(X)\n",
    "        t1 = time.time()\n",
    "        if hasattr(algorithm, 'labels_'):\n",
    "            y_pred = algorithm.labels_.astype(np.int)\n",
    "            #print y_pred\n",
    "        else:\n",
    "            y_pred = algorithm.predict(X).astype(np.int)\n",
    "            #print y_pred\n",
    "\n",
    "\n",
    "        if hasattr(algorithm, 'cluster_centers_'):\n",
    "            centers = algorithm.cluster_centers_\n",
    "            h,c,v=metrics.homogeneity_completeness_v_measure(y, y_pred)\n",
    "            print 'name {},  homogenity {}, completeness {}, v_score {}'.format(name, h,c,v)\n",
    "            try:\n",
    "                print 'name {}, silhouette score {}'.format(name,metrics.silhouette_score(X, y, metric='euclidean'))\n",
    "            except:\n",
    "                pass\n",
    "\n",
    "            center_colors = colors[:len(centers)]\n"
   ]
  },
  {
   "cell_type": "markdown",
   "metadata": {},
   "source": [
    "# Performance on Real World Twitter Data"
   ]
  },
  {
   "cell_type": "code",
   "execution_count": 103,
   "metadata": {
    "collapsed": false
   },
   "outputs": [
    {
     "data": {
      "text/html": [
       "<div>\n",
       "<table border=\"1\" class=\"dataframe\">\n",
       "  <thead>\n",
       "    <tr style=\"text-align: right;\">\n",
       "      <th></th>\n",
       "      <th>0</th>\n",
       "      <th>1</th>\n",
       "      <th>2</th>\n",
       "      <th>3</th>\n",
       "      <th>4</th>\n",
       "      <th>5</th>\n",
       "      <th>6</th>\n",
       "      <th>7</th>\n",
       "      <th>8</th>\n",
       "      <th>9</th>\n",
       "      <th>...</th>\n",
       "      <th>292</th>\n",
       "      <th>293</th>\n",
       "      <th>294</th>\n",
       "      <th>295</th>\n",
       "      <th>296</th>\n",
       "      <th>297</th>\n",
       "      <th>298</th>\n",
       "      <th>299</th>\n",
       "      <th>id_str</th>\n",
       "      <th>mt_coded_sex</th>\n",
       "    </tr>\n",
       "  </thead>\n",
       "  <tbody>\n",
       "    <tr>\n",
       "      <th>0</th>\n",
       "      <td>11</td>\n",
       "      <td>0</td>\n",
       "      <td>28</td>\n",
       "      <td>12</td>\n",
       "      <td>34</td>\n",
       "      <td>9</td>\n",
       "      <td>9</td>\n",
       "      <td>1</td>\n",
       "      <td>7</td>\n",
       "      <td>13</td>\n",
       "      <td>...</td>\n",
       "      <td>15</td>\n",
       "      <td>51</td>\n",
       "      <td>15</td>\n",
       "      <td>4</td>\n",
       "      <td>27</td>\n",
       "      <td>20</td>\n",
       "      <td>10</td>\n",
       "      <td>21</td>\n",
       "      <td>235996827</td>\n",
       "      <td>Female</td>\n",
       "    </tr>\n",
       "  </tbody>\n",
       "</table>\n",
       "<p>1 rows × 302 columns</p>\n",
       "</div>"
      ],
      "text/plain": [
       "    0  1   2   3   4  5  6  7  8   9      ...       292  293  294  295  296  \\\n",
       "0  11  0  28  12  34  9  9  1  7  13      ...        15   51   15    4   27   \n",
       "\n",
       "   297  298  299     id_str  mt_coded_sex  \n",
       "0   20   10   21  235996827        Female  \n",
       "\n",
       "[1 rows x 302 columns]"
      ]
     },
     "execution_count": 103,
     "metadata": {},
     "output_type": "execute_result"
    }
   ],
   "source": [
    "# Twitter Data\n",
    "\n",
    "df=pd.read_csv('npm_gender.csv',index_col=0)\n",
    "df.head(1)"
   ]
  },
  {
   "cell_type": "code",
   "execution_count": 110,
   "metadata": {
    "collapsed": false
   },
   "outputs": [
    {
     "data": {
      "text/plain": [
       "array([0, 1, 1, 0, 0, 1, 0, 1, 0, 0, 0, 0, 1, 1, 1, 0, 0, 0, 0, 1, 0, 1, 0,\n",
       "       1, 1, 1, 0, 1, 1, 0, 1, 0, 1, 0, 1, 1, 0, 1, 1, 0, 0, 0, 1, 1, 1, 1,\n",
       "       1, 1, 1, 0, 1, 0, 1, 0, 0, 1, 1, 1, 0, 1, 0, 0, 0, 0, 1, 0, 1, 1, 0,\n",
       "       0, 1, 0, 0, 1, 0, 0, 1, 0, 1, 1, 1, 1, 0, 1, 1, 0, 0, 0, 0, 0, 1, 1,\n",
       "       0, 1, 1, 0, 0, 0, 0, 1])"
      ]
     },
     "execution_count": 110,
     "metadata": {},
     "output_type": "execute_result"
    }
   ],
   "source": [
    "X=df[[each for each in df.columns if 'id' not in each and 'mt' not in each]]\n",
    "X=X.as_matrix()\n",
    "y=np.where(df['mt_coded_sex']=='Male',1,0)\n",
    "y"
   ]
  },
  {
   "cell_type": "code",
   "execution_count": null,
   "metadata": {
    "collapsed": false
   },
   "outputs": [],
   "source": [
    "\n",
    "# normalize dataset for easier parameter selection\n",
    "X = StandardScaler().fit_transform(X)\n",
    "\n",
    "# estimate bandwidth for mean shift\n",
    "bandwidth = cluster.estimate_bandwidth(X, quantile=0.45)\n",
    "print bandwidth\n",
    "\n",
    "\n",
    "# create clustering estimators\n",
    "\n",
    "cms=custom_mean_shift(kernel_bandwidth=bandwidth)\n",
    "cms2=custom_mean_shift(kernel_bandwidth=bandwidth, threshold_distance=5)\n",
    "cms3=custom_mean_shift(kernel_bandwidth=bandwidth, features_weighting=True)\n",
    "\n",
    "clustering_algorithms = [\n",
    "     cms,cms2,cms3\n",
    "]\n",
    "\n",
    "for name, algorithm in zip(clustering_names, clustering_algorithms):\n",
    "    # predict cluster memberships\n",
    "    t0 = time.time()\n",
    "    algorithm.fit(X)\n",
    "    t1 = time.time()\n",
    "    if hasattr(algorithm, 'labels_'):\n",
    "        y_pred = algorithm.labels_.astype(np.int)\n",
    "        #print y_pred\n",
    "    else:\n",
    "        y_pred = algorithm.predict(X).astype(np.int)\n",
    "\n",
    "    if hasattr(algorithm, 'cluster_centers_'):\n",
    "        centers = algorithm.cluster_centers_\n",
    "        h,c,v=metrics.homogeneity_completeness_v_measure(y, y_pred)\n",
    "        print 'name {},  homogenity {}, completeness {}, v_score {}'.format(name, h,c,v)\n",
    "        try:\n",
    "            print 'name {}, silhouette score {}'.format(name,metrics.silhouette_score(X, y, metric='euclidean'))\n",
    "        except:\n",
    "            pass\n",
    "\n",
    "        center_colors = colors[:len(centers)]\n",
    "#           "
   ]
  },
  {
   "cell_type": "code",
   "execution_count": null,
   "metadata": {
    "collapsed": true
   },
   "outputs": [],
   "source": []
  }
 ],
 "metadata": {
  "kernelspec": {
   "display_name": "Python 2",
   "language": "python",
   "name": "python2"
  },
  "language_info": {
   "codemirror_mode": {
    "name": "ipython",
    "version": 2
   },
   "file_extension": ".py",
   "mimetype": "text/x-python",
   "name": "python",
   "nbconvert_exporter": "python",
   "pygments_lexer": "ipython2",
   "version": "2.7.11"
  }
 },
 "nbformat": 4,
 "nbformat_minor": 0
}
